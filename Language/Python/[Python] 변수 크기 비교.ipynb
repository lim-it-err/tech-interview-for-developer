{
 "cells": [
  {
   "metadata": {
    "ExecuteTime": {
     "end_time": "2024-03-29T12:22:10.722325Z",
     "start_time": "2024-03-29T12:22:10.697422Z"
    }
   },
   "cell_type": "code",
   "source": "import sys",
   "id": "744a7daa999bc5e9",
   "outputs": [],
   "execution_count": 1
  },
  {
   "metadata": {
    "ExecuteTime": {
     "end_time": "2024-03-29T12:22:10.726035Z",
     "start_time": "2024-03-29T12:22:10.724156Z"
    }
   },
   "cell_type": "code",
   "source": "N = 100",
   "id": "initial_id",
   "outputs": [],
   "execution_count": 2
  },
  {
   "metadata": {
    "ExecuteTime": {
     "end_time": "2024-03-29T12:22:10.729506Z",
     "start_time": "2024-03-29T12:22:10.726917Z"
    }
   },
   "cell_type": "code",
   "source": [
    "data = [\"0\", 0, 1e150, _, None, \"Suddenly\", [1, 2, 3, 4, 5]]\n",
    "data_list_N = [[data for _ in range(N)] for data in data]\n",
    "data_list_Nplus1 = [[data for _ in range(N+1)] for data in data]\n",
    "data_list_2N = [[data for _ in range(2*N)] for data in data]\n",
    "data_list_0N = [[] for data in data]"
   ],
   "id": "d0172f322d649beb",
   "outputs": [],
   "execution_count": 3
  },
  {
   "metadata": {
    "ExecuteTime": {
     "end_time": "2024-03-29T12:22:10.732525Z",
     "start_time": "2024-03-29T12:22:10.730376Z"
    }
   },
   "cell_type": "code",
   "source": [
    "for d in data_list_0N:\n",
    "    print(sys.getsizeof(d))\n",
    "for d in data_list_N:\n",
    "    print(sys.getsizeof(d))\n",
    "for d in data_list_2N:\n",
    "    print(sys.getsizeof(d))"
   ],
   "id": "b50bfb54e3a17809",
   "outputs": [
    {
     "name": "stdout",
     "output_type": "stream",
     "text": [
      "56\n",
      "56\n",
      "56\n",
      "56\n",
      "56\n",
      "56\n",
      "56\n",
      "920\n",
      "920\n",
      "920\n",
      "920\n",
      "920\n",
      "920\n",
      "920\n",
      "1656\n",
      "1656\n",
      "1656\n",
      "1656\n",
      "1656\n",
      "1656\n",
      "1656\n"
     ]
    }
   ],
   "execution_count": 4
  },
  {
   "metadata": {},
   "cell_type": "markdown",
   "source": [
    "값의 자료형이 다름에도 데이터의 리스트는 크기가 같다.\n",
    "1.  리스트 안에 값이 저장되는 것이 아니라, 리스트는 값을 참조한다.이 때, `getsizeof`는 객체의 크기까지 계산하지 않는다.\n",
    "2. 빈 리스트는 56byte를 소모하며, N(100)개의 데이터 당 864바이트를 참조한다.\n",
    "그런데, 100개의 데이터에 864바이트를 소모한 다는 것 자체가 이해가 가지 않는다. 혹시, 파이썬의 리스트는 사용자의 요청과 다르게, 더 큰 배열을 할당해 둔 것이 아닐까?"
   ],
   "id": "9f7e3957ce0eeba3"
  },
  {
   "metadata": {
    "ExecuteTime": {
     "end_time": "2024-03-29T12:22:11.189564Z",
     "start_time": "2024-03-29T12:22:10.734030Z"
    }
   },
   "cell_type": "code",
   "source": [
    "import matplotlib.pyplot as plt\n",
    "for test_case in range(20):\n",
    "    empty_list = []\n",
    "    sizes = []\n",
    "    for i in range(1000):\n",
    "        empty_list.append(1)\n",
    "        sizes.append(sys.getsizeof(empty_list))\n",
    "    plt.plot(sizes)\n",
    "plt.show()"
   ],
   "id": "c85584342df6786a",
   "outputs": [
    {
     "data": {
      "text/plain": [
       "<Figure size 640x480 with 1 Axes>"
      ],
      "image/png": "[encoded data removed]"
     },
     "metadata": {},
     "output_type": "display_data"
    }
   ],
   "execution_count": 5
  },
  {
   "metadata": {},
   "cell_type": "markdown",
   "source": [
    "1. 위의 그래프와 같이 파이썬의 리스트는 append 와 동시에 메모리의 크기를 늘리는 것이 아니라, 미리 메모리를 할당해두고, 필요 시 메모리를 추가 요청한다.\n",
    "2. 한 데이터당 평균적으로 8byte를 소모하고 있음을 알 수 있는데, 64비트 시스템에서는 메모리 주소를 표현하기 위해 64비트(즉, 8바이트)가 필요하기 때문이다. Python과 같은 프로그래밍 언어에서는 각 객체를 메모리 상의 위치로 참조한다. 64비트 시스템에서 객체의 메모리 주소를 저장하고 참조하는 데에는 64비트, 즉 8바이트가 필요하다. 따라서, 이러한 시스템에서 Python 객체 참조의 크기는 일반적으로 8바이트로 간주된다.\n",
    "3. 20회 반북 수행함에도 그래프가 동일한 것을 볼 수 있는데, deterministic한가 보다....(별도 확인 X)"
   ],
   "id": "e5faa23ed59f026f"
  },
  {
   "metadata": {
    "ExecuteTime": {
     "end_time": "2024-03-29T12:22:11.198483Z",
     "start_time": "2024-03-29T12:22:11.194977Z"
    }
   },
   "cell_type": "code",
   "source": [
    "for datum in data:\n",
    "    print(datum,type(datum), \"\\t\\t\\t\\t\", sys.getsizeof(datum))"
   ],
   "id": "283625f640feefc7",
   "outputs": [
    {
     "name": "stdout",
     "output_type": "stream",
     "text": [
      "0 <class 'str'> \t\t\t\t 50\n",
      "0 <class 'int'> \t\t\t\t 24\n",
      "1e+150 <class 'float'> \t\t\t\t 24\n",
      " <class 'str'> \t\t\t\t 49\n",
      "None <class 'NoneType'> \t\t\t\t 16\n",
      "Suddenly <class 'str'> \t\t\t\t 57\n",
      "[1, 2, 3, 4, 5] <class 'list'> \t\t\t\t 120\n"
     ]
    }
   ],
   "execution_count": 6
  },
  {
   "metadata": {},
   "cell_type": "markdown",
   "source": [
    "1. \"0\"의 크기가 int 0보다 크다. \n",
    "2. 1e+150이 float이다. float의 크기는 3.4E+/-38(7개의 자릿수)로 알고 있는데, 어떻게 된 것일까\n",
    "3. 24 또한 0과 같이 int인데, 4바이트의 크기를 더 소모한다.\n",
    "4. 8자 크기의 \"Suddenly\"는 \"0\"과 비교해도 7 byte의 크기만 차이가 난다. 혹시, '0'과 \"0\"의 크기가 다른가?\n",
    "5. 빈 배열 16byte와, 8*5를 합해 66byte로 추정하였으나, 120byte이다. 배열의 크기를 8까지 미리 할당해 둔 듯 하다.\n",
    "위 5가지를 확인해보자\n"
   ],
   "id": "c07813d1f3ff09c0"
  },
  {
   "metadata": {},
   "cell_type": "markdown",
   "source": "## \"0\", '0'의 크기는 같다.",
   "id": "702dfaddcf6cdc11"
  },
  {
   "metadata": {
    "ExecuteTime": {
     "end_time": "2024-03-29T12:22:11.205785Z",
     "start_time": "2024-03-29T12:22:11.200201Z"
    }
   },
   "cell_type": "code",
   "source": [
    "print(sys.getsizeof('0'))\n",
    "print(sys.getsizeof(\"0\"))\n",
    "print(sys.getsizeof(b'a'))"
   ],
   "id": "8c74625b3bf342ed",
   "outputs": [
    {
     "name": "stdout",
     "output_type": "stream",
     "text": [
      "50\n",
      "50\n",
      "34\n"
     ]
    }
   ],
   "execution_count": 7
  },
  {
   "metadata": {},
   "cell_type": "markdown",
   "source": [
    "GPT Answer.\n",
    "Python에서 정수는 객체로 구현되어 있어, 값 외에 참조 카운트와 메타데이터를 포함하기 때문에 24~28바이트의 메모리를 사용합니다. \n",
    "Python은 char 타입을 따로 제공하지 않으며, 모든 문자는 유니코드를 지원하는 str 객체로 표현되어 메모리 사용이 더 큽니다. \n",
    "단일 문자를 메모리 효율적으로 저장하고자 할 때는 바이트 타입을 사용할 수 있지만, 이는 문자열의 모든 기능을 지원하지 않습니다."
   ],
   "id": "61e94f9b14040f79"
  },
  {
   "metadata": {},
   "cell_type": "markdown",
   "source": "",
   "id": "f4b73a19741ee570"
  },
  {
   "metadata": {
    "ExecuteTime": {
     "end_time": "2024-03-29T12:24:48.041316Z",
     "start_time": "2024-03-29T12:24:48.036260Z"
    }
   },
   "cell_type": "code",
   "source": [
    "print(sys.getsizeof(0), type(0))\n",
    "print(sys.getsizeof(0), type(0))\n",
    "print(sys.getsizeof(-1), type(-1))\n",
    "print(sys.getsizeof(1e0), type(1e0))\n",
    "print(sys.getsizeof(5), type(5))\n",
    "print(sys.getsizeof(5+24), type(5+24))\n",
    "print(sys.getsizeof(1e4), type(1e4))\n",
    "print(sys.getsizeof(10000), type(10000))\n",
    "print(sys.getsizeof(300), type(300))\n",
    "print(sys.getsizeof(3e2), type(3e2))\n"
   ],
   "id": "166bc52e2d230748",
   "outputs": [
    {
     "name": "stdout",
     "output_type": "stream",
     "text": [
      "24 <class 'int'>\n",
      "24 <class 'int'>\n",
      "28 <class 'int'>\n",
      "24 <class 'float'>\n",
      "28 <class 'int'>\n",
      "28 <class 'int'>\n",
      "24 <class 'float'>\n",
      "28 <class 'int'>\n",
      "28 <class 'int'>\n",
      "24 <class 'float'>\n"
     ]
    }
   ],
   "execution_count": 11
  },
  {
   "metadata": {},
   "cell_type": "markdown",
   "source": [
    "Python에서 정수의 메모리 사용량이 값에 따라 다를 수 있는 주된 이유는 Python의 정수가 객체로 구현되어 있고, 특정 범위 내의 작은 정수들에 대해서는 인터프리터가 사전에 생성한 객체를 재사용하기 때문입니다. 이런 최적화 기법을 \"정수 인터닝(Integer Interning)\"이라고 합니다. \n",
    "정수 인터닝은 Python 인터프리터가 메모리 사용을 줄이고 성능을 향상시키기 위해 -5부터 256까지의 정수 객체를 미리 생성하고, 이 범위 내의 정수에 대한 참조가 필요할 때마다 재사용하는 메커니즘을 말합니다.\n"
   ],
   "id": "70a9e2c48c33cdc3"
  },
  {
   "metadata": {},
   "cell_type": "markdown",
   "source": [
    "파이썬 버전별로 int 0의 크기 차이\n",
    "Python3.7, 3.9, 3.10 : 24\n",
    "Python3.11 : 28\n"
   ],
   "id": "ed972fcec07d2d14"
  },
  {
   "metadata": {},
   "cell_type": "markdown",
   "source": "",
   "id": "304594deb820a655"
  }
 ],
 "metadata": {
  "kernelspec": {
   "display_name": "Python 3",
   "language": "python",
   "name": "python3"
  },
  "language_info": {
   "codemirror_mode": {
    "name": "ipython",
    "version": 2
   },
   "file_extension": ".py",
   "mimetype": "text/x-python",
   "name": "python",
   "nbconvert_exporter": "python",
   "pygments_lexer": "ipython2",
   "version": "2.7.6"
  }
 },
 "nbformat": 4,
 "nbformat_minor": 5
}
